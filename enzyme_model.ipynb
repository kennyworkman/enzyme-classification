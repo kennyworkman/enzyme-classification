{
 "cells": [
  {
   "cell_type": "code",
   "execution_count": 6,
   "metadata": {},
   "outputs": [],
   "source": [
    "from keras.datasets import mnist\n",
    "from keras.utils import to_categorical\n",
    "from keras.models import Sequential\n",
    "from keras.layers import Dense, Conv3D, Flatten"
   ]
  },
  {
   "cell_type": "code",
   "execution_count": 7,
   "metadata": {},
   "outputs": [],
   "source": [
    "import os\n",
    "import numpy as np\n",
    "import pandas as pd\n",
    "import matplotlib.pyplot as plt"
   ]
  },
  {
   "cell_type": "code",
   "execution_count": 8,
   "metadata": {},
   "outputs": [],
   "source": [
    "#load presplit data\n",
    "from build_dataset import *"
   ]
  },
  {
   "cell_type": "code",
   "execution_count": 9,
   "metadata": {},
   "outputs": [
    {
     "data": {
      "text/plain": [
       "array([2, 1, 2, 3, 1, 2, 2, 2, 3, 1, 1, 2, 3, 6, 3, 1, 2, 3, 2, 1, 3, 6,\n",
       "       3, 3, 3, 3, 3, 3, 1, 2, 3, 2, 3, 3, 2, 3, 3, 2, 2])"
      ]
     },
     "execution_count": 9,
     "metadata": {},
     "output_type": "execute_result"
    }
   ],
   "source": [
    "test_labels"
   ]
  },
  {
   "cell_type": "code",
   "execution_count": 10,
   "metadata": {},
   "outputs": [],
   "source": [
    "#binary encoding for labels\n",
    "test_labels = to_categorical(test_labels)\n",
    "validate_labels = to_categorical(validate_labels)\n",
    "train_labels = to_categorical(train_labels)"
   ]
  },
  {
   "cell_type": "code",
   "execution_count": 11,
   "metadata": {},
   "outputs": [
    {
     "data": {
      "text/plain": [
       "((39, 64, 64, 64, 18), (38, 64, 64, 64, 18), (307, 64, 64, 64, 18))"
      ]
     },
     "execution_count": 11,
     "metadata": {},
     "output_type": "execute_result"
    }
   ],
   "source": [
    "test_Xs.shape, validate_Xs.shape, train_Xs.shape"
   ]
  },
  {
   "cell_type": "code",
   "execution_count": 12,
   "metadata": {},
   "outputs": [
    {
     "data": {
      "text/plain": [
       "array([0., 0., 1., 0., 0., 0., 0.], dtype=float32)"
      ]
     },
     "execution_count": 12,
     "metadata": {},
     "output_type": "execute_result"
    }
   ],
   "source": [
    "test_labels[0]"
   ]
  },
  {
   "cell_type": "code",
   "execution_count": 13,
   "metadata": {},
   "outputs": [
    {
     "data": {
      "text/plain": [
       "((39, 7), (38, 7), (307, 7))"
      ]
     },
     "execution_count": 13,
     "metadata": {},
     "output_type": "execute_result"
    }
   ],
   "source": [
    "test_labels.shape, validate_labels.shape, train_labels.shape"
   ]
  },
  {
   "cell_type": "code",
   "execution_count": 14,
   "metadata": {},
   "outputs": [],
   "source": [
    "#build the model\n",
    "model = Sequential()\n",
    "model.add(Conv3D(64, kernel_size=(3, 3, 3), activation='relu', input_shape=(64, 64, 64, 18), data_format=\"channels_last\"))\n",
    "model.add(Conv3D(32, kernel_size=(3, 3, 3), activation='relu'))\n",
    "model.add(Flatten())\n",
    "model.add(Dense(7, activation='softmax'))\n"
   ]
  },
  {
   "cell_type": "code",
   "execution_count": null,
   "metadata": {
    "scrolled": true
   },
   "outputs": [
    {
     "name": "stdout",
     "output_type": "stream",
     "text": [
      "Train on 307 samples, validate on 38 samples\n",
      "Epoch 1/3\n",
      "307/307 [==============================] - 981s 3s/step - loss: 9.7434 - acc: 0.2638 - val_loss: 11.8765 - val_acc: 0.2632\n",
      "Epoch 2/3\n",
      "307/307 [==============================] - 992s 3s/step - loss: 11.1304 - acc: 0.3094 - val_loss: 11.8765 - val_acc: 0.2632\n",
      "Epoch 3/3\n",
      "160/307 [==============>...............] - ETA: 7:45 - loss: 10.8797 - acc: 0.3250"
     ]
    }
   ],
   "source": [
    "model.compile(optimizer='adam', loss='categorical_crossentropy', metrics=['accuracy'])\n",
    "model.fit(train_Xs, train_labels, validation_data=(validate_Xs, validate_labels), epochs=3, verbose=1)"
   ]
  },
  {
   "cell_type": "code",
   "execution_count": null,
   "metadata": {},
   "outputs": [],
   "source": []
  }
 ],
 "metadata": {
  "kernelspec": {
   "display_name": "Python 3",
   "language": "python",
   "name": "python3"
  },
  "language_info": {
   "codemirror_mode": {
    "name": "ipython",
    "version": 3
   },
   "file_extension": ".py",
   "mimetype": "text/x-python",
   "name": "python",
   "nbconvert_exporter": "python",
   "pygments_lexer": "ipython3",
   "version": "3.7.1"
  }
 },
 "nbformat": 4,
 "nbformat_minor": 2
}
